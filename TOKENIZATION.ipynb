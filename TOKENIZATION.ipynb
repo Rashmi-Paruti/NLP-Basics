{
 "cells": [
  {
   "cell_type": "code",
   "execution_count": 1,
   "metadata": {},
   "outputs": [
    {
     "name": "stderr",
     "output_type": "stream",
     "text": [
      "[nltk_data] Error loading punkt: <urlopen error [WinError 10065] A\n",
      "[nltk_data]     socket operation was attempted to an unreachable host>\n"
     ]
    },
    {
     "data": {
      "text/plain": [
       "False"
      ]
     },
     "execution_count": 1,
     "metadata": {},
     "output_type": "execute_result"
    }
   ],
   "source": [
    "import nltk\n",
    "nltk.download('punkt')"
   ]
  },
  {
   "cell_type": "code",
   "execution_count": 2,
   "metadata": {},
   "outputs": [],
   "source": [
    "paragraph= \"\"\"Despite the fact that piranhas are relatively harmless, many people continue to believe the pervasive myth that piranhas are dangerous to humans. This impression of piranhas is exacerbated by their mischaracterization in popular media. For example, the promotional poster for the 1978 horror film Piranha features an oversized piranha poised to bite the leg of an unsuspecting woman. Such a terrifying representation easily captures the imagination and promotes unnecessary fear. While the trope of the man-eating piranhas lends excitement to the adventure stories, it bears little resemblance to the real-life piranha. By paying more attention to fact than fiction, humans may finally be able to let go of this inaccurate belief.\"\"\""
   ]
  },
  {
   "cell_type": "code",
   "execution_count": 3,
   "metadata": {},
   "outputs": [],
   "source": [
    "sentence=nltk.sent_tokenize(paragraph)"
   ]
  },
  {
   "cell_type": "code",
   "execution_count": 5,
   "metadata": {},
   "outputs": [
    {
     "data": {
      "text/plain": [
       "['Despite the fact that piranhas are relatively harmless, many people continue to believe the pervasive myth that piranhas are dangerous to humans.',\n",
       " 'This impression of piranhas is exacerbated by their mischaracterization in popular media.',\n",
       " 'For example, the promotional poster for the 1978 horror film Piranha features an oversized piranha poised to bite the leg of an unsuspecting woman.',\n",
       " 'Such a terrifying representation easily captures the imagination and promotes unnecessary fear.',\n",
       " 'While the trope of the man-eating piranhas lends excitement to the adventure stories, it bears little resemblance to the real-life piranha.',\n",
       " 'By paying more attention to fact than fiction, humans may finally be able to let go of this inaccurate belief.']"
      ]
     },
     "execution_count": 5,
     "metadata": {},
     "output_type": "execute_result"
    }
   ],
   "source": [
    "sentence"
   ]
  },
  {
   "cell_type": "code",
   "execution_count": 6,
   "metadata": {},
   "outputs": [],
   "source": [
    "words=nltk.word_tokenize(paragraph)"
   ]
  },
  {
   "cell_type": "code",
   "execution_count": 7,
   "metadata": {},
   "outputs": [
    {
     "data": {
      "text/plain": [
       "['Despite',\n",
       " 'the',\n",
       " 'fact',\n",
       " 'that',\n",
       " 'piranhas',\n",
       " 'are',\n",
       " 'relatively',\n",
       " 'harmless',\n",
       " ',',\n",
       " 'many',\n",
       " 'people',\n",
       " 'continue',\n",
       " 'to',\n",
       " 'believe',\n",
       " 'the',\n",
       " 'pervasive',\n",
       " 'myth',\n",
       " 'that',\n",
       " 'piranhas',\n",
       " 'are',\n",
       " 'dangerous',\n",
       " 'to',\n",
       " 'humans',\n",
       " '.',\n",
       " 'This',\n",
       " 'impression',\n",
       " 'of',\n",
       " 'piranhas',\n",
       " 'is',\n",
       " 'exacerbated',\n",
       " 'by',\n",
       " 'their',\n",
       " 'mischaracterization',\n",
       " 'in',\n",
       " 'popular',\n",
       " 'media',\n",
       " '.',\n",
       " 'For',\n",
       " 'example',\n",
       " ',',\n",
       " 'the',\n",
       " 'promotional',\n",
       " 'poster',\n",
       " 'for',\n",
       " 'the',\n",
       " '1978',\n",
       " 'horror',\n",
       " 'film',\n",
       " 'Piranha',\n",
       " 'features',\n",
       " 'an',\n",
       " 'oversized',\n",
       " 'piranha',\n",
       " 'poised',\n",
       " 'to',\n",
       " 'bite',\n",
       " 'the',\n",
       " 'leg',\n",
       " 'of',\n",
       " 'an',\n",
       " 'unsuspecting',\n",
       " 'woman',\n",
       " '.',\n",
       " 'Such',\n",
       " 'a',\n",
       " 'terrifying',\n",
       " 'representation',\n",
       " 'easily',\n",
       " 'captures',\n",
       " 'the',\n",
       " 'imagination',\n",
       " 'and',\n",
       " 'promotes',\n",
       " 'unnecessary',\n",
       " 'fear',\n",
       " '.',\n",
       " 'While',\n",
       " 'the',\n",
       " 'trope',\n",
       " 'of',\n",
       " 'the',\n",
       " 'man-eating',\n",
       " 'piranhas',\n",
       " 'lends',\n",
       " 'excitement',\n",
       " 'to',\n",
       " 'the',\n",
       " 'adventure',\n",
       " 'stories',\n",
       " ',',\n",
       " 'it',\n",
       " 'bears',\n",
       " 'little',\n",
       " 'resemblance',\n",
       " 'to',\n",
       " 'the',\n",
       " 'real-life',\n",
       " 'piranha',\n",
       " '.',\n",
       " 'By',\n",
       " 'paying',\n",
       " 'more',\n",
       " 'attention',\n",
       " 'to',\n",
       " 'fact',\n",
       " 'than',\n",
       " 'fiction',\n",
       " ',',\n",
       " 'humans',\n",
       " 'may',\n",
       " 'finally',\n",
       " 'be',\n",
       " 'able',\n",
       " 'to',\n",
       " 'let',\n",
       " 'go',\n",
       " 'of',\n",
       " 'this',\n",
       " 'inaccurate',\n",
       " 'belief',\n",
       " '.']"
      ]
     },
     "execution_count": 7,
     "metadata": {},
     "output_type": "execute_result"
    }
   ],
   "source": [
    "words"
   ]
  }
 ],
 "metadata": {
  "kernelspec": {
   "display_name": "Python 3",
   "language": "python",
   "name": "python3"
  },
  "language_info": {
   "codemirror_mode": {
    "name": "ipython",
    "version": 3
   },
   "file_extension": ".py",
   "mimetype": "text/x-python",
   "name": "python",
   "nbconvert_exporter": "python",
   "pygments_lexer": "ipython3",
   "version": "3.7.4"
  }
 },
 "nbformat": 4,
 "nbformat_minor": 2
}
